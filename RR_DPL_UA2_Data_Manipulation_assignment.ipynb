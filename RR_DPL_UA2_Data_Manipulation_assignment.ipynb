{
  "nbformat": 4,
  "nbformat_minor": 0,
  "metadata": {
    "colab": {
      "name": "RR-DPL-UA2 Data Manipulation assignment.ipynb",
      "provenance": [],
      "collapsed_sections": [],
      "authorship_tag": "ABX9TyMBnEnUxyzWN+nCOhnTmw9N",
      "include_colab_link": true
    },
    "kernelspec": {
      "name": "python3",
      "display_name": "Python 3"
    },
    "language_info": {
      "name": "python"
    }
  },
  "cells": [
    {
      "cell_type": "markdown",
      "metadata": {
        "id": "view-in-github",
        "colab_type": "text"
      },
      "source": [
        "<a href=\"https://colab.research.google.com/github/stormyCobra1199/experiments/blob/main/RR_DPL_UA2_Data_Manipulation_assignment.ipynb\" target=\"_parent\"><img src=\"https://colab.research.google.com/assets/colab-badge.svg\" alt=\"Open In Colab\"/></a>"
      ]
    },
    {
      "cell_type": "markdown",
      "source": [
        "Clean the book information from British Library\n",
        "\n",
        "You are given a CSV file - Book.csv, which contains the information about books from the British Library.\n",
        "\n",
        "You are then required to complete the following tasks: \n",
        "\n",
        "Read the csv in a data_frame. (10 points)\n",
        "\n",
        "Remove the following columns from the data_frame (20 points)\n",
        "'Edition Statement', \n",
        "'Corporate Author', \n",
        "'Corporate Contributors', \n",
        "'Former owner', \n",
        "'Engraver', \n",
        "'Contributors', \n",
        "'Issuance type', \n",
        "'Shelfmarks'\n",
        "\n",
        "Check the content of the column- 'Date of Publication’ and define a function to clean the value. E.g., the original value: 1879 [1878] to: 1879; [1858.] to 1858; (20 points)\n",
        "\n",
        "Check the content of the column- ' Author’ and define a function to clean the value. And split the name to first name and last name. (10 points)\n",
        "\n",
        "Check the content of the column- ‘Title’ and define a function to clean the value. E.g., the original value: Walter Forbes. [A novel.] By A. A to: Walter Forbes;  Love the Avenger. By the author of “All for Gr.. to Love The Avenger. (10 points)\n",
        "\n",
        "Check the content of the column- ‘Place of Publication’ and define a function to clean the value. E.g., the original value: London; Virtue & Yorston to: London. (10 points)\n"
      ],
      "metadata": {
        "id": "wMsI3LUGfs5D"
      }
    },
    {
      "cell_type": "code",
      "execution_count": 180,
      "metadata": {
        "id": "NdZMMPn-fnHw"
      },
      "outputs": [],
      "source": [
        "import pandas as pd\n",
        "\n",
        "df = pd.read_csv(\"Book.csv\")\n",
        "df = df.drop(labels=['Edition Statement', 'Corporate Author', 'Corporate Contributors', 'Former owner', 'Engraver', 'Contributors', 'Issuance type', 'Shelfmarks'], axis=1)\n"
      ]
    },
    {
      "cell_type": "code",
      "source": [
        "df['Date of Publication']=df['Date of Publication'].str.replace(\"\\[1\",\"1\", regex=True)\n",
        "df['Date of Publication']=df['Date of Publication'].str.replace(\"\\]-\",\"1-\", regex=True)\n",
        "df['Date of Publication']=df['Date of Publication'].str.replace(\"1]\",\"1\", regex=True)\n",
        "df['Date of Publication']=df['Date of Publication'].str.replace(\"2]\",\"2\", regex=True)\n",
        "df['Date of Publication']=df['Date of Publication'].str.replace(\"3]\",\"3\", regex=True)\n",
        "df['Date of Publication']=df['Date of Publication'].str.replace(\"4]\",\"4\", regex=True)\n",
        "df['Date of Publication']=df['Date of Publication'].str.replace(\"5]\",\"5\", regex=True)\n",
        "df['Date of Publication']=df['Date of Publication'].str.replace(\"6]\",\"6\", regex=True)\n",
        "df['Date of Publication']=df['Date of Publication'].str.replace(\"7]\",\"7\", regex=True)\n",
        "df['Date of Publication']=df['Date of Publication'].str.replace(\"8]\",\"8\", regex=True)\n",
        "df['Date of Publication']=df['Date of Publication'].str.replace(\"9]\",\"9\", regex=True)\n",
        "df['Date of Publication']=df['Date of Publication'].str.replace(\"0]\",\"0\", regex=True)\n",
        "df['Date of Publication']"
      ],
      "metadata": {
        "colab": {
          "base_uri": "https://localhost:8080/"
        },
        "id": "N4280yr4hO_Y",
        "outputId": "bc8a1207-b853-4265-92dd-aa468b12353c"
      },
      "execution_count": 181,
      "outputs": [
        {
          "output_type": "execute_result",
          "data": {
            "text/plain": [
              "0       1879 1878\n",
              "1            1868\n",
              "2            1869\n",
              "3            1851\n",
              "4            1857\n",
              "          ...    \n",
              "8282         1838\n",
              "8283     1831, 32\n",
              "8284     18061-22\n",
              "8285         1834\n",
              "8286      1834-43\n",
              "Name: Date of Publication, Length: 8287, dtype: object"
            ]
          },
          "metadata": {},
          "execution_count": 181
        }
      ]
    },
    {
      "cell_type": "code",
      "source": [
        "def authorSplit(audata):\n",
        "  audata = audata.str.split(',')\n",
        "  return audata\n",
        "\n",
        "df['Author'] = authorSplit(df['Author'])\n",
        "df['Author'] = df['Author'].str[0]\n",
        "df['Author']"
      ],
      "metadata": {
        "colab": {
          "base_uri": "https://localhost:8080/"
        },
        "id": "Y0WWknBfo7St",
        "outputId": "90f0a010-30e5-476d-b4d0-3b52b8573d7a"
      },
      "execution_count": 182,
      "outputs": [
        {
          "output_type": "execute_result",
          "data": {
            "text/plain": [
              "0           A. A.\n",
              "1              A.\n",
              "2              A.\n",
              "3              A.\n",
              "4              A.\n",
              "          ...    \n",
              "8282        GIDDY\n",
              "8283       GLOVER\n",
              "8284       LYSONS\n",
              "8285    Mackenzie\n",
              "8286          NaN\n",
              "Name: Author, Length: 8287, dtype: object"
            ]
          },
          "metadata": {},
          "execution_count": 182
        }
      ]
    },
    {
      "cell_type": "code",
      "source": [
        "def titleSplit(tdata):\n",
        "  tdata = tdata.str.split('by ')\n",
        "  return tdata\n",
        "\n",
        "df['Title'] = titleSplit(df['Title'])\n",
        "df['Title'] = df['Title'].str[0]\n",
        "df['Title']"
      ],
      "metadata": {
        "colab": {
          "base_uri": "https://localhost:8080/"
        },
        "id": "M_GPkU7bs1ZO",
        "outputId": "51b6130f-a9c4-4d0b-b652-688f323c37f0"
      },
      "execution_count": 183,
      "outputs": [
        {
          "output_type": "execute_result",
          "data": {
            "text/plain": [
              "0                       Walter Forbes. [A novel.] By A. A\n",
              "1       All for Greed. [A novel. The dedication signed...\n",
              "2       Love the Avenger. By the author of “All for Gr...\n",
              "3       Welsh Sketches, chiefly ecclesiastical, to the...\n",
              "4       [The World in which I live, and my place in it...\n",
              "                              ...                        \n",
              "8282    The Parochial History of Cornwall, founded on,...\n",
              "8283    The History and Gazetteer of the County of Der...\n",
              "8284    Magna Britannia; being a concise topographical...\n",
              "8285    An historical, topographical and descriptive v...\n",
              "8286    Collectanea Topographica et Genealogica. [Firs...\n",
              "Name: Title, Length: 8287, dtype: object"
            ]
          },
          "metadata": {},
          "execution_count": 183
        }
      ]
    },
    {
      "cell_type": "code",
      "source": [
        "def ppSplit(pdata):\n",
        "  pdata = pdata.str.split('; ')\n",
        "  return pdata\n",
        "\n",
        "df['Place of Publication']=ppSplit(df['Place of Publication'])\n",
        "df['Place of Publication']=df['Place of Publication'].str[0]\n",
        "df['Place of Publication']"
      ],
      "metadata": {
        "colab": {
          "base_uri": "https://localhost:8080/"
        },
        "id": "esV8Tvo0ueKR",
        "outputId": "96eb10e2-2238-44e1-baac-3afa612dfa0c"
      },
      "execution_count": 184,
      "outputs": [
        {
          "output_type": "execute_result",
          "data": {
            "text/plain": [
              "0                    London\n",
              "1                    London\n",
              "2                    London\n",
              "3                    London\n",
              "4                    London\n",
              "               ...         \n",
              "8282                 London\n",
              "8283                  Derby\n",
              "8284                 London\n",
              "8285    Newcastle upon Tyne\n",
              "8286                 London\n",
              "Name: Place of Publication, Length: 8287, dtype: object"
            ]
          },
          "metadata": {},
          "execution_count": 184
        }
      ]
    }
  ]
}